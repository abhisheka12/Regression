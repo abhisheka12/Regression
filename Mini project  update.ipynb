{
 "cells": [
  {
   "cell_type": "code",
   "execution_count": 1,
   "id": "d54fed0a",
   "metadata": {},
   "outputs": [],
   "source": [
    "# Importing important libraries to perfom analysis in most efficient and easy way\n",
    "\n",
    "import pandas as pd # EDA\n",
    "import numpy as np # Array operations\n",
    "import matplotlib.pyplot as plt # Data visualisation\n",
    "import seaborn as sns # Data visualisation\n",
    "\n",
    "from sklearn.linear_model import LinearRegression \n",
    "from sklearn.model_selection import train_test_split\n",
    "\n",
    "\n",
    "import sklearn.metrics as metrics  # To calculate the R Square , MSE & RMSE error"
   ]
  },
  {
   "cell_type": "code",
   "execution_count": 2,
   "id": "3093c6cf",
   "metadata": {},
   "outputs": [],
   "source": [
    "# importing the data using pandas library\n",
    "\n",
    "df= pd.read_csv('/home/tensor/Downloads/Mini project1/Data_miniproject.csv')"
   ]
  },
  {
   "cell_type": "markdown",
   "id": "3ec7d825",
   "metadata": {},
   "source": [
    "# EDA (Exploratory Data Analysis)"
   ]
  },
  {
   "cell_type": "code",
   "execution_count": 3,
   "id": "10af755b",
   "metadata": {},
   "outputs": [
    {
     "data": {
      "text/html": [
       "<div>\n",
       "<style scoped>\n",
       "    .dataframe tbody tr th:only-of-type {\n",
       "        vertical-align: middle;\n",
       "    }\n",
       "\n",
       "    .dataframe tbody tr th {\n",
       "        vertical-align: top;\n",
       "    }\n",
       "\n",
       "    .dataframe thead th {\n",
       "        text-align: right;\n",
       "    }\n",
       "</style>\n",
       "<table border=\"1\" class=\"dataframe\">\n",
       "  <thead>\n",
       "    <tr style=\"text-align: right;\">\n",
       "      <th></th>\n",
       "      <th>Cost</th>\n",
       "      <th>Weight</th>\n",
       "      <th>Weight1</th>\n",
       "      <th>Length</th>\n",
       "      <th>Height</th>\n",
       "      <th>Width</th>\n",
       "    </tr>\n",
       "  </thead>\n",
       "  <tbody>\n",
       "    <tr>\n",
       "      <th>0</th>\n",
       "      <td>242.0</td>\n",
       "      <td>23.2</td>\n",
       "      <td>25.4</td>\n",
       "      <td>30</td>\n",
       "      <td>11.5200</td>\n",
       "      <td>4.02</td>\n",
       "    </tr>\n",
       "    <tr>\n",
       "      <th>1</th>\n",
       "      <td>290.0</td>\n",
       "      <td>24</td>\n",
       "      <td>26.3</td>\n",
       "      <td>31.2</td>\n",
       "      <td>12.4800</td>\n",
       "      <td>4.3056</td>\n",
       "    </tr>\n",
       "    <tr>\n",
       "      <th>2</th>\n",
       "      <td>340.0</td>\n",
       "      <td>23.9</td>\n",
       "      <td>26.5</td>\n",
       "      <td>31.1</td>\n",
       "      <td>12.3778</td>\n",
       "      <td>4.6961</td>\n",
       "    </tr>\n",
       "    <tr>\n",
       "      <th>3</th>\n",
       "      <td>363.0</td>\n",
       "      <td>26.3</td>\n",
       "      <td>29.0</td>\n",
       "      <td>33.5</td>\n",
       "      <td>12.7300</td>\n",
       "      <td>4.4555</td>\n",
       "    </tr>\n",
       "    <tr>\n",
       "      <th>4</th>\n",
       "      <td>430.0</td>\n",
       "      <td>26.5</td>\n",
       "      <td>29.0</td>\n",
       "      <td>34</td>\n",
       "      <td>12.4440</td>\n",
       "      <td>5.134</td>\n",
       "    </tr>\n",
       "  </tbody>\n",
       "</table>\n",
       "</div>"
      ],
      "text/plain": [
       "    Cost Weight  Weight1 Length   Height   Width\n",
       "0  242.0   23.2     25.4     30  11.5200    4.02\n",
       "1  290.0     24     26.3   31.2  12.4800  4.3056\n",
       "2  340.0   23.9     26.5   31.1  12.3778  4.6961\n",
       "3  363.0   26.3     29.0   33.5  12.7300  4.4555\n",
       "4  430.0   26.5     29.0     34  12.4440   5.134"
      ]
     },
     "execution_count": 3,
     "metadata": {},
     "output_type": "execute_result"
    }
   ],
   "source": [
    "df.head() # Representation of the first 5 rows of the dataset"
   ]
  },
  {
   "cell_type": "code",
   "execution_count": 4,
   "id": "5c64feb0",
   "metadata": {},
   "outputs": [
    {
     "data": {
      "text/plain": [
       "(159, 6)"
      ]
     },
     "execution_count": 4,
     "metadata": {},
     "output_type": "execute_result"
    }
   ],
   "source": [
    "# Shape of the dataframe\n",
    "df.shape"
   ]
  },
  {
   "cell_type": "markdown",
   "id": "b993969b",
   "metadata": {},
   "source": [
    "Total rows available is 159, hence every feature column must have 159 values."
   ]
  },
  {
   "cell_type": "code",
   "execution_count": 5,
   "id": "455fb4ff",
   "metadata": {
    "scrolled": true
   },
   "outputs": [
    {
     "name": "stdout",
     "output_type": "stream",
     "text": [
      "<class 'pandas.core.frame.DataFrame'>\n",
      "RangeIndex: 159 entries, 0 to 158\n",
      "Data columns (total 6 columns):\n",
      " #   Column   Non-Null Count  Dtype  \n",
      "---  ------   --------------  -----  \n",
      " 0   Cost     159 non-null    float64\n",
      " 1   Weight   159 non-null    object \n",
      " 2   Weight1  159 non-null    float64\n",
      " 3   Length   159 non-null    object \n",
      " 4   Height   158 non-null    float64\n",
      " 5   Width    158 non-null    object \n",
      "dtypes: float64(3), object(3)\n",
      "memory usage: 7.6+ KB\n"
     ]
    }
   ],
   "source": [
    "df.info()"
   ]
  },
  {
   "cell_type": "markdown",
   "id": "b909a047",
   "metadata": {},
   "source": [
    "Here Weight, Length & Width has datatype as object though these are float64 type values"
   ]
  },
  {
   "cell_type": "code",
   "execution_count": 6,
   "id": "f00c8073",
   "metadata": {},
   "outputs": [],
   "source": [
    "# Changing the datatype of the columns to float64\n",
    "\n",
    "df['Weight'] = pd.to_numeric(df['Weight'],errors = 'coerce')\n",
    "df['Length'] = pd.to_numeric(df['Length'],errors = 'coerce')\n",
    "df['Width'] = pd.to_numeric(df['Width'],errors = 'coerce')"
   ]
  },
  {
   "cell_type": "code",
   "execution_count": 7,
   "id": "5fb57192",
   "metadata": {},
   "outputs": [
    {
     "name": "stdout",
     "output_type": "stream",
     "text": [
      "<class 'pandas.core.frame.DataFrame'>\n",
      "RangeIndex: 159 entries, 0 to 158\n",
      "Data columns (total 6 columns):\n",
      " #   Column   Non-Null Count  Dtype  \n",
      "---  ------   --------------  -----  \n",
      " 0   Cost     159 non-null    float64\n",
      " 1   Weight   157 non-null    float64\n",
      " 2   Weight1  159 non-null    float64\n",
      " 3   Length   158 non-null    float64\n",
      " 4   Height   158 non-null    float64\n",
      " 5   Width    157 non-null    float64\n",
      "dtypes: float64(6)\n",
      "memory usage: 7.6 KB\n"
     ]
    }
   ],
   "source": [
    "df.info()"
   ]
  },
  {
   "cell_type": "markdown",
   "id": "aa1a806b",
   "metadata": {},
   "source": [
    "# Available features\n",
    "\n",
    "Height – The height of the bag\n",
    "\n",
    "Width – The width of the bag\n",
    "\n",
    "Length – The length of the bag\n",
    "\n",
    "Weight – The weight the bag can carry\n",
    "\n",
    "Weight1 – Weight the bag can carry after expansion"
   ]
  },
  {
   "cell_type": "markdown",
   "id": "3913e401",
   "metadata": {},
   "source": [
    " "
   ]
  },
  {
   "cell_type": "markdown",
   "id": "4ed8cfff",
   "metadata": {},
   "source": [
    " "
   ]
  },
  {
   "cell_type": "markdown",
   "id": "a5e151b6",
   "metadata": {},
   "source": [
    " Now we need to detect the outliers first so it do not impact the mean/median values of perticular feature hence the further analysis."
   ]
  },
  {
   "cell_type": "code",
   "execution_count": 8,
   "id": "7dcc2699",
   "metadata": {},
   "outputs": [
    {
     "name": "stdout",
     "output_type": "stream",
     "text": [
      "Index(['Weight', 'Weight1', 'Length', 'Height', 'Width'], dtype='object')\n"
     ]
    },
    {
     "data": {
      "image/png": "[encoded data removed]",
      "text/plain": [
       "<Figure size 432x288 with 1 Axes>"
      ]
     },
     "metadata": {
      "needs_background": "light"
     },
     "output_type": "display_data"
    },
    {
     "data": {
      "image/png": "[encoded data removed]",
      "text/plain": [
       "<Figure size 432x288 with 1 Axes>"
      ]
     },
     "metadata": {
      "needs_background": "light"
     },
     "output_type": "display_data"
    },
    {
     "data": {
      "image/png": "[encoded data removed]",
      "text/plain": [
       "<Figure size 432x288 with 1 Axes>"
      ]
     },
     "metadata": {
      "needs_background": "light"
     },
     "output_type": "display_data"
    },
    {
     "data": {
      "image/png": "[encoded data removed]",
      "text/plain": [
       "<Figure size 432x288 with 1 Axes>"
      ]
     },
     "metadata": {
      "needs_background": "light"
     },
     "output_type": "display_data"
    },
    {
     "data": {
      "image/png": "[encoded data removed]",
      "text/plain": [
       "<Figure size 432x288 with 1 Axes>"
      ]
     },
     "metadata": {
      "needs_background": "light"
     },
     "output_type": "display_data"
    }
   ],
   "source": [
    "# Outlier Detection\n",
    "\n",
    "column = df.columns\n",
    "feature = column[1:]\n",
    "print(feature)\n",
    "\n",
    "for i in feature:\n",
    "    plt.subplot(2,1,1)\n",
    "    df[i].plot(kind = 'box', color='r')\n",
    "    plt.show()\n",
    "  "
   ]
  },
  {
   "cell_type": "markdown",
   "id": "1419fe65",
   "metadata": {},
   "source": [
    "As per the boxplot shown above there are outliers available in our dataset. In the feature \"Width\" we have outlier point which could be an typo error as it way behyond the value range of the feature. Hence we need to remove it.\n",
    "\n",
    "\n",
    "Other outliers are within the permissible range and can be left as it is."
   ]
  },
  {
   "cell_type": "markdown",
   "id": "cd968309",
   "metadata": {},
   "source": [
    " "
   ]
  },
  {
   "cell_type": "markdown",
   "id": "5601174d",
   "metadata": {},
   "source": [
    " "
   ]
  },
  {
   "cell_type": "code",
   "execution_count": 9,
   "id": "cf9a1e62",
   "metadata": {},
   "outputs": [],
   "source": [
    "# Outliers removal (IQR/Inter Quartile Range method)\n",
    "\n",
    "\n",
    "i='Width'\n",
    "\n",
    "Q1= df[i].quantile(0.25)\n",
    "Q2= df[i].quantile(0.5) # This is the median or 50% of the boxplot \n",
    "Q3= df[i].quantile(0.75)\n",
    "IQR = Q3-Q1\n",
    "    \n",
    "lower_limit = Q1 -1.5*IQR # Values below this will be considered as outiers\n",
    "upper_limit = Q3 + 1.5*IQR # Values above/more than this will be considered as outliers\n",
    "\n",
    "\n",
    "for j in range(len(df[i])): # Drop the row containing outlier value\n",
    "    if df[i].iloc[j]< lower_limit or df[i].iloc[j]>upper_limit:\n",
    "        df.drop([j],axis=0,inplace = True)\n",
    "        break\n",
    "\n",
    "for k in feature:            # replacing the null values with mean value\n",
    "    df[k].fillna(df[k].mean(),inplace=True)    \n",
    "\n",
    "            "
   ]
  },
  {
   "cell_type": "markdown",
   "id": "21cbf8a3",
   "metadata": {},
   "source": [
    " "
   ]
  },
  {
   "cell_type": "code",
   "execution_count": 10,
   "id": "4044ae88",
   "metadata": {},
   "outputs": [
    {
     "data": {
      "text/plain": [
       "Cost       0\n",
       "Weight     0\n",
       "Weight1    0\n",
       "Length     0\n",
       "Height     0\n",
       "Width      0\n",
       "dtype: int64"
      ]
     },
     "execution_count": 10,
     "metadata": {},
     "output_type": "execute_result"
    }
   ],
   "source": [
    "df.isnull().sum()  # Counting the null value/empty values in our data"
   ]
  },
  {
   "cell_type": "markdown",
   "id": "c64d5d89",
   "metadata": {},
   "source": [
    "Null values are present in the dataset. Since all the feature contains numeric values we can replace the null with the median values of the respective feature."
   ]
  },
  {
   "cell_type": "markdown",
   "id": "f798f223",
   "metadata": {},
   "source": [
    "As per above details there are no null values present in dataframe now."
   ]
  },
  {
   "cell_type": "code",
   "execution_count": 11,
   "id": "957c4e64",
   "metadata": {},
   "outputs": [
    {
     "data": {
      "text/html": [
       "<div>\n",
       "<style scoped>\n",
       "    .dataframe tbody tr th:only-of-type {\n",
       "        vertical-align: middle;\n",
       "    }\n",
       "\n",
       "    .dataframe tbody tr th {\n",
       "        vertical-align: top;\n",
       "    }\n",
       "\n",
       "    .dataframe thead th {\n",
       "        text-align: right;\n",
       "    }\n",
       "</style>\n",
       "<table border=\"1\" class=\"dataframe\">\n",
       "  <thead>\n",
       "    <tr style=\"text-align: right;\">\n",
       "      <th></th>\n",
       "      <th>Cost</th>\n",
       "      <th>Weight</th>\n",
       "      <th>Weight1</th>\n",
       "      <th>Length</th>\n",
       "      <th>Height</th>\n",
       "      <th>Width</th>\n",
       "    </tr>\n",
       "  </thead>\n",
       "  <tbody>\n",
       "    <tr>\n",
       "      <th>count</th>\n",
       "      <td>158.000000</td>\n",
       "      <td>158.000000</td>\n",
       "      <td>158.000000</td>\n",
       "      <td>158.000000</td>\n",
       "      <td>158.000000</td>\n",
       "      <td>158.000000</td>\n",
       "    </tr>\n",
       "    <tr>\n",
       "      <th>mean</th>\n",
       "      <td>390.720886</td>\n",
       "      <td>26.069231</td>\n",
       "      <td>28.215823</td>\n",
       "      <td>31.030573</td>\n",
       "      <td>8.928876</td>\n",
       "      <td>4.422621</td>\n",
       "    </tr>\n",
       "    <tr>\n",
       "      <th>std</th>\n",
       "      <td>345.989767</td>\n",
       "      <td>9.733870</td>\n",
       "      <td>10.448780</td>\n",
       "      <td>11.346936</td>\n",
       "      <td>4.272735</td>\n",
       "      <td>1.667513</td>\n",
       "    </tr>\n",
       "    <tr>\n",
       "      <th>min</th>\n",
       "      <td>0.000000</td>\n",
       "      <td>7.500000</td>\n",
       "      <td>8.400000</td>\n",
       "      <td>8.800000</td>\n",
       "      <td>1.728400</td>\n",
       "      <td>1.047600</td>\n",
       "    </tr>\n",
       "    <tr>\n",
       "      <th>25%</th>\n",
       "      <td>120.000000</td>\n",
       "      <td>19.025000</td>\n",
       "      <td>21.000000</td>\n",
       "      <td>23.125000</td>\n",
       "      <td>5.940600</td>\n",
       "      <td>3.398650</td>\n",
       "    </tr>\n",
       "    <tr>\n",
       "      <th>50%</th>\n",
       "      <td>272.500000</td>\n",
       "      <td>25.300000</td>\n",
       "      <td>27.150000</td>\n",
       "      <td>29.700000</td>\n",
       "      <td>7.733000</td>\n",
       "      <td>4.277050</td>\n",
       "    </tr>\n",
       "    <tr>\n",
       "      <th>75%</th>\n",
       "      <td>642.500000</td>\n",
       "      <td>32.650000</td>\n",
       "      <td>35.000000</td>\n",
       "      <td>39.575000</td>\n",
       "      <td>12.248700</td>\n",
       "      <td>5.577375</td>\n",
       "    </tr>\n",
       "    <tr>\n",
       "      <th>max</th>\n",
       "      <td>1650.000000</td>\n",
       "      <td>59.000000</td>\n",
       "      <td>63.400000</td>\n",
       "      <td>68.000000</td>\n",
       "      <td>18.957000</td>\n",
       "      <td>8.142000</td>\n",
       "    </tr>\n",
       "  </tbody>\n",
       "</table>\n",
       "</div>"
      ],
      "text/plain": [
       "              Cost      Weight     Weight1      Length      Height       Width\n",
       "count   158.000000  158.000000  158.000000  158.000000  158.000000  158.000000\n",
       "mean    390.720886   26.069231   28.215823   31.030573    8.928876    4.422621\n",
       "std     345.989767    9.733870   10.448780   11.346936    4.272735    1.667513\n",
       "min       0.000000    7.500000    8.400000    8.800000    1.728400    1.047600\n",
       "25%     120.000000   19.025000   21.000000   23.125000    5.940600    3.398650\n",
       "50%     272.500000   25.300000   27.150000   29.700000    7.733000    4.277050\n",
       "75%     642.500000   32.650000   35.000000   39.575000   12.248700    5.577375\n",
       "max    1650.000000   59.000000   63.400000   68.000000   18.957000    8.142000"
      ]
     },
     "execution_count": 11,
     "metadata": {},
     "output_type": "execute_result"
    }
   ],
   "source": [
    "df.describe()"
   ]
  },
  {
   "cell_type": "markdown",
   "id": "98877da3",
   "metadata": {},
   "source": [
    "  "
   ]
  },
  {
   "cell_type": "markdown",
   "id": "ab93588d",
   "metadata": {},
   "source": [
    "# Graphs & correlations"
   ]
  },
  {
   "cell_type": "code",
   "execution_count": 12,
   "id": "f394eecc",
   "metadata": {},
   "outputs": [
    {
     "data": {
      "text/plain": [
       "<seaborn.axisgrid.PairGrid at 0x7fa6f673fc10>"
      ]
     },
     "execution_count": 12,
     "metadata": {},
     "output_type": "execute_result"
    },
    {
     "data": {
      "image/png": "[encoded data removed]",
      "text/plain": [
       "<Figure size 1080x180 with 7 Axes>"
      ]
     },
     "metadata": {
      "needs_background": "light"
     },
     "output_type": "display_data"
    }
   ],
   "source": [
    "sns.pairplot(df, kind = 'reg', y_vars = 'Cost')  "
   ]
  },
  {
   "cell_type": "markdown",
   "id": "1b45b8a5",
   "metadata": {},
   "source": [
    "As per the above plots between cost vs other feature it is evident that there may exist some linear relation."
   ]
  },
  {
   "cell_type": "code",
   "execution_count": 13,
   "id": "76b06948",
   "metadata": {},
   "outputs": [
    {
     "data": {
      "image/png": "[encoded data removed]",
      "text/plain": [
       "<Figure size 432x288 with 2 Axes>"
      ]
     },
     "metadata": {
      "needs_background": "light"
     },
     "output_type": "display_data"
    }
   ],
   "source": [
    "sns.heatmap(df.corr(), annot = True, cmap = 'Blues')\n",
    "plt.show()"
   ]
  },
  {
   "cell_type": "markdown",
   "id": "0409ca92",
   "metadata": {},
   "source": [
    "Above correlation heatmap shows the strong correlation between Cost and other features. Hence all the feature available should be used to create the model."
   ]
  },
  {
   "cell_type": "markdown",
   "id": "c3bb14be",
   "metadata": {},
   "source": [
    "# Model Building"
   ]
  },
  {
   "cell_type": "markdown",
   "id": "c8797f67",
   "metadata": {},
   "source": [
    " lets take the 5 variables as below for the multilinear regression."
   ]
  },
  {
   "cell_type": "code",
   "execution_count": 14,
   "id": "5fa09817",
   "metadata": {},
   "outputs": [],
   "source": [
    "x1 = df['Weight']\n",
    "x2 = df['Weight1']\n",
    "x3 = df['Length']\n",
    "x4 = df['Height']\n",
    "x5 = df['Width']"
   ]
  },
  {
   "cell_type": "markdown",
   "id": "9d116b62",
   "metadata": {},
   "source": [
    "1.OLS Method"
   ]
  },
  {
   "cell_type": "code",
   "execution_count": 15,
   "id": "746752d1",
   "metadata": {},
   "outputs": [],
   "source": [
    "X = df.drop(['Cost'],axis=1)\n",
    "Y = df['Cost']\n",
    "\n",
    "X_train,X_test , Y_train , Y_test = train_test_split(X,Y,test_size = 0.10)"
   ]
  },
  {
   "cell_type": "code",
   "execution_count": 16,
   "id": "61ab2a30",
   "metadata": {},
   "outputs": [
    {
     "data": {
      "text/plain": [
       "LinearRegression()"
      ]
     },
     "execution_count": 16,
     "metadata": {},
     "output_type": "execute_result"
    }
   ],
   "source": [
    "model = LinearRegression()\n",
    "model.fit(X_train,Y_train)"
   ]
  },
  {
   "cell_type": "code",
   "execution_count": 17,
   "id": "32711599",
   "metadata": {},
   "outputs": [
    {
     "name": "stdout",
     "output_type": "stream",
     "text": [
      "[ 12.83315397  26.3157045  -18.45308343  20.91855486  45.15958172]\n",
      "-503.4334161847751\n"
     ]
    }
   ],
   "source": [
    "print(model.coef_)\n",
    "print(model.intercept_)"
   ]
  },
  {
   "cell_type": "markdown",
   "id": "260da506",
   "metadata": {},
   "source": [
    "Eqaution of the Linear Regression will be \n",
    "\n",
    "\n",
    "Cost = 12.83*weight + 26.31*weight1 - 18.45*Length + 20.91*Height + 45.15*Width - 503.43"
   ]
  },
  {
   "cell_type": "code",
   "execution_count": 18,
   "id": "2381c314",
   "metadata": {},
   "outputs": [],
   "source": [
    "Y_predict = model.predict(X_test)"
   ]
  },
  {
   "cell_type": "code",
   "execution_count": 19,
   "id": "62238b93",
   "metadata": {},
   "outputs": [
    {
     "name": "stdout",
     "output_type": "stream",
     "text": [
      "MSE =  5642.460044049092\n",
      "RMSE =  75.11631010672112\n",
      "R Square error =  0.956483190907572\n"
     ]
    }
   ],
   "source": [
    "mse = metrics.mean_squared_error(Y_test, Y_predict)\n",
    "\n",
    "print( 'MSE = ',mse)\n",
    "\n",
    "rmse = np.sqrt(mse) # or mse**(0.5) \n",
    "print('RMSE = ', rmse)\n",
    "r2 = metrics.r2_score(Y_test,Y_predict)\n",
    "print('R Square error = ', r2)"
   ]
  },
  {
   "cell_type": "markdown",
   "id": "c0c1afae",
   "metadata": {},
   "source": [
    "  "
   ]
  },
  {
   "cell_type": "markdown",
   "id": "12191e29",
   "metadata": {},
   "source": [
    "2. Gradient descent"
   ]
  },
  {
   "cell_type": "code",
   "execution_count": 20,
   "id": "46245678",
   "metadata": {},
   "outputs": [],
   "source": [
    "n = float(len(x1)) # Total no of the data available for training"
   ]
  },
  {
   "cell_type": "code",
   "execution_count": 21,
   "id": "6569f5a9",
   "metadata": {},
   "outputs": [],
   "source": [
    "coef = np.zeros(7)  # Coefficient for the linear model, initial values =0\n",
    "lr = 0.001 # learning rate\n",
    "\n"
   ]
  },
  {
   "cell_type": "code",
   "execution_count": null,
   "id": "1b451784",
   "metadata": {},
   "outputs": [],
   "source": []
  }
 ],
 "metadata": {
  "kernelspec": {
   "display_name": "Python 3",
   "language": "python",
   "name": "python3"
  },
  "language_info": {
   "codemirror_mode": {
    "name": "ipython",
    "version": 3
   },
   "file_extension": ".py",
   "mimetype": "text/x-python",
   "name": "python",
   "nbconvert_exporter": "python",
   "pygments_lexer": "ipython3",
   "version": "3.8.8"
  }
 },
 "nbformat": 4,
 "nbformat_minor": 5
}
